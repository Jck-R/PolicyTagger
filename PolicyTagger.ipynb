{
  "cells": [
    {
      "cell_type": "markdown",
      "id": "18af457f",
      "metadata": {
        "id": "18af457f"
      },
      "source": [
        "# Init"
      ]
    },
    {
      "cell_type": "code",
      "execution_count": 1,
      "id": "4c35bf9c",
      "metadata": {
        "id": "4c35bf9c"
      },
      "outputs": [],
      "source": [
        "import pandas as pd\n",
        "import numpy as np\n",
        "import pyterrier as pt\n",
        "import os\n",
        "import json\n",
        "import time"
      ]
    },
    {
      "cell_type": "code",
      "execution_count": 2,
      "id": "d268b536",
      "metadata": {
        "colab": {
          "base_uri": "https://localhost:8080/"
        },
        "id": "d268b536",
        "outputId": "54f6c819-e703-4394-98f8-c710f305fd5e"
      },
      "outputs": [
        {
          "output_type": "stream",
          "name": "stderr",
          "text": [
            "PyTerrier 0.9.1 has loaded Terrier 5.7 (built by craigm on 2022-11-10 18:30) and terrier-helper 0.0.7\n",
            "\n",
            "No etc/terrier.properties, using terrier.default.properties for bootstrap configuration.\n"
          ]
        }
      ],
      "source": [
        "if not pt.started():\n",
        "    pt.init()"
      ]
    },
    {
      "cell_type": "code",
      "source": [
        "# dataset = pd.read_csv(\"./data/docs.tsv\", sep=\"\\t\")\n",
        "dataset = pd.read_csv(\"./data/docsWithKw.csv\")\n",
        "dataset[\"docno\"] = dataset[\"docno\"].astype(\"str\")\n",
        "dataset = dataset.rename(columns={\n",
        "  \"Title\": \"title\",\n",
        "  \"URL\": \"url\",\n",
        "  \"Area\": \"area\",\n",
        "  \"Applicability\": \"applicability\",\n",
        "  \"Owner\": \"owner\"\n",
        "})\n",
        "features = [\"title\", \"text\", \"area\", \"applicability\", \"owner\", \"kwList\"]\n",
        "datasetDict = dataset[[\"docno\", *features]].to_dict(orient=\"records\")\n",
        "path = \"./data/mm\"\n",
        "\n",
        "if not os.path.exists(os.path.join(path, \"data.properties\")):\n",
        "    indexer = pt.IterDictIndexer(\n",
        "        path,\n",
        "        overwrite = True,\n",
        "        blocks=True,\n",
        "        meta={\"docno\": 20, \"text\": 4096, \"title\": 128}\n",
        "    )\n",
        "    indexRef = indexer.index(datasetDict, fields=features)\n",
        "else:\n",
        "    indexRef = pt.IndexRef.of(os.path.join(path, \"data.properties\"))\n",
        "\n",
        "index = pt.IndexFactory.of(indexRef)"
      ],
      "metadata": {
        "id": "15b75a68",
        "collapsed": true
      },
      "id": "15b75a68",
      "execution_count": 3,
      "outputs": []
    },
    {
      "cell_type": "code",
      "execution_count": 4,
      "id": "3989a6d7",
      "metadata": {
        "colab": {
          "base_uri": "https://localhost:8080/"
        },
        "id": "3989a6d7",
        "outputId": "639dd2f1-17e9-4181-b048-7c970851d592"
      },
      "outputs": [
        {
          "output_type": "stream",
          "name": "stdout",
          "text": [
            "Number of documents: 4922\n",
            "Number of terms: 52651\n",
            "Number of postings: 1184448\n",
            "Number of fields: 6\n",
            "Number of tokens: 3250722\n",
            "Field names: [title, text, area, applicability, owner, kwList]\n",
            "Positions:   true\n",
            "\n"
          ]
        }
      ],
      "source": [
        "print(index.getCollectionStatistics().toString())"
      ]
    },
    {
      "cell_type": "code",
      "execution_count": 5,
      "id": "3c020e41",
      "metadata": {
        "id": "3c020e41"
      },
      "outputs": [],
      "source": [
        "br = pt.BatchRetrieve(index, wmodel=\"BM25\")\n",
        "qe = pt.rewrite.Bo1QueryExpansion(index)\n",
        "sdm = pt.rewrite.SDM()"
      ]
    },
    {
      "cell_type": "code",
      "execution_count": 6,
      "id": "f14b3e43",
      "metadata": {
        "id": "f14b3e43"
      },
      "outputs": [],
      "source": [
        "qrel = pd.read_csv(\"./data/rel.csv\")\n",
        "qrel[\"relevance\"] = qrel[\"rel\"].astype(\"int64\")\n",
        "# qrel[\"score\"] = qrel[\"relevance\"]\n",
        "qrel[\"label\"] = qrel[\"relevance\"]\n",
        "qrel[\"docno\"] = qrel[\"docno\"].astype(str)"
      ]
    },
    {
      "cell_type": "code",
      "execution_count": 7,
      "id": "eee10171",
      "metadata": {
        "id": "eee10171"
      },
      "outputs": [],
      "source": [
        "topics = qrel[[\"query\"]].groupby(\"query\").first().reset_index()\n",
        "topics[\"qid\"] = topics.index.astype(str)\n",
        "topics = topics[[\"qid\", \"query\"]]"
      ]
    },
    {
      "cell_type": "code",
      "execution_count": 8,
      "id": "79d6649e",
      "metadata": {
        "id": "79d6649e"
      },
      "outputs": [],
      "source": [
        "qrel = pd.merge(qrel, topics, how=\"inner\", on=\"query\")"
      ]
    },
    {
      "cell_type": "markdown",
      "id": "d57f2441",
      "metadata": {
        "id": "d57f2441"
      },
      "source": [
        "# Train"
      ]
    },
    {
      "cell_type": "code",
      "execution_count": 9,
      "id": "797c5278",
      "metadata": {
        "id": "797c5278"
      },
      "outputs": [],
      "source": [
        "SEED = 42\n",
        "\n",
        "from sklearn.model_selection import train_test_split\n",
        "\n",
        "trainValidTopics, testTopics = train_test_split(topics, test_size=10, random_state=SEED)\n",
        "trainTopics, validTopics =  train_test_split(trainValidTopics, test_size=5, random_state=SEED)"
      ]
    },
    {
      "cell_type": "code",
      "execution_count": null,
      "id": "2dd570fd",
      "metadata": {
        "id": "2dd570fd"
      },
      "outputs": [],
      "source": [
        "from keybert import KeyBERT\n",
        "kwModel = KeyBERT()"
      ]
    },
    {
      "cell_type": "code",
      "source": [
        "docs = pd.read_csv(\"./data/docs.tsv\", sep=\"\\t\")\n",
        "kws = kwModel.extract_keywords(\n",
        "  docs[\"text\"],\n",
        "  keyphrase_ngram_range=(1, 1),\n",
        "  stop_words=\"english\",\n",
        "  use_mmr=True,\n",
        "  diversity=0.4\n",
        ")\n",
        "kws = [dict(filter(lambda x: x[1] > 0.2, kw)) for kw in kws]\n",
        "docs[\"kw\"] = kws"
      ],
      "metadata": {
        "colab": {
          "base_uri": "https://localhost:8080/"
        },
        "id": "tBkIQ5F9g0NU",
        "outputId": "8586dc36-6b1a-4109-dd1a-8545ebcd2a7e"
      },
      "id": "tBkIQ5F9g0NU",
      "execution_count": null,
      "outputs": [
        {
          "output_type": "execute_result",
          "data": {
            "text/plain": [
              "3157    {'adverse': 0.4683, 'medications': 0.3927, 'al...\n",
              "Name: kw, dtype: object"
            ]
          },
          "metadata": {},
          "execution_count": 127
        }
      ]
    },
    {
      "cell_type": "code",
      "source": [
        "docs[\"kwList\"] = docs[\"kw\"].map(lambda x: \" \".join([kw for kw in x]))\n",
        "docs[\"kwList\"] = docs[\"kwList\"].replace(\"\", \"empty\")\n",
        "docs.to_csv(\"./data/docsWithKw.csv\")"
      ],
      "metadata": {
        "id": "bKH0rYF0jD4P"
      },
      "id": "bKH0rYF0jD4P",
      "execution_count": null,
      "outputs": []
    },
    {
      "cell_type": "code",
      "execution_count": null,
      "id": "e71b8c96",
      "metadata": {
        "id": "e71b8c96"
      },
      "outputs": [],
      "source": [
        "docs = pd.read_csv(\"./data/docsWithKw.csv\")\n",
        "docs[\"kw\"] = docs[\"kw\"].apply(lambda x: eval(x))"
      ]
    },
    {
      "cell_type": "code",
      "execution_count": null,
      "id": "59be6ea7",
      "metadata": {
        "scrolled": true,
        "id": "59be6ea7"
      },
      "outputs": [],
      "source": [
        "from sklearn.metrics.pairwise import cosine_similarity\n",
        "def normalize(arr):\n",
        "    s = sum(arr)\n",
        "    if (s != 0):\n",
        "        return [x / s for x in arr]\n",
        "    else:\n",
        "        return arr\n",
        "def getIndex(tf, tokens):\n",
        "    return normalize([tf[x] if x in tf else 0 for x in tokens])\n",
        "def simOfTags(query, docno):\n",
        "    queryKw = dict(kwModel.extract_keywords(query))\n",
        "    kw = docs[docs[\"docno\"] == int(docno)][\"kw\"].values[0]\n",
        "    tokens = list(set([*[x[0] for x in queryKw.items()], *[x[0] for x in kw.items()]]))\n",
        "    tokens.sort()\n",
        "    v1 = getIndex(queryKw, tokens)\n",
        "    v2 = getIndex(kw, tokens)\n",
        "    sim = cosine_similarity([v1], [v2])\n",
        "    return sim[0][0]"
      ]
    },
    {
      "cell_type": "code",
      "execution_count": 10,
      "id": "398b1a38",
      "metadata": {
        "id": "398b1a38"
      },
      "outputs": [],
      "source": [
        "br = pt.BatchRetrieve(index, wmodel=\"BM25\")\n",
        "features = br >> qe >> br >> pt.text.get_text(index, [\"text\", \"title\"]) >> (\n",
        "    pt.transformer.IdentityTransformer()\n",
        "    **\n",
        "    (sdm >> br)\n",
        "    **\n",
        "    pt.BatchRetrieve(index, wmodel=\"CoordinateMatch\")\n",
        "    **\n",
        "    (pt.apply.query(lambda row: \"guideline\") >> br)\n",
        "    **\n",
        "    (pt.apply.query(lambda row: \"policy\") >> br)\n",
        "#     **\n",
        "#     (pt.apply.doc_score(lambda row: simOfTags(row[\"query_0\"], row[\"docno\"])))\n",
        ")"
      ]
    },
    {
      "cell_type": "code",
      "execution_count": 11,
      "id": "c8ec371a",
      "metadata": {
        "collapsed": true,
        "colab": {
          "base_uri": "https://localhost:8080/"
        },
        "id": "c8ec371a",
        "outputId": "fdc5ccdb-8ca8-4a49-e54d-8e310be7ab87"
      },
      "outputs": [
        {
          "output_type": "stream",
          "name": "stdout",
          "text": [
            "---------------------------\n",
            "Training starts...\n",
            "---------------------------\n",
            "[+] Random restart #1/5...\n",
            "[+] Random restart #3/5...\n",
            "[+] Random restart #2/5...\n",
            "[+] Random restart #4/5...\n",
            "[+] Random restart #5/5...\n",
            "Shuffle features and optimize!\n",
            "----------------------------------------\n",
            "   3|Feature         |   Weight|     NDCG\n",
            "----------------------------------------\n",
            "Shuffle features and optimize!\n",
            "----------------------------------------\n",
            "   0|Feature         |   Weight|     NDCG\n",
            "----------------------------------------\n",
            "Shuffle features and optimize!\n",
            "----------------------------------------\n",
            "   2|Feature         |   Weight|     NDCG\n",
            "----------------------------------------\n",
            "Shuffle features and optimize!\n",
            "----------------------------------------\n",
            "   1|Feature         |   Weight|     NDCG\n",
            "----------------------------------------\n",
            "Shuffle features and optimize!\n",
            "----------------------------------------\n",
            "   4|Feature         |   Weight|     NDCG\n",
            "----------------------------------------\n",
            "   3|0               |    0.000|    0.892\n",
            "   2|4               |    0.000|    0.918\n",
            "   1|4               |    0.000|    0.902\n",
            "   3|3               |    0.000|    0.904\n",
            "   2|2               |    0.000|    0.918\n",
            "   0|4               |   -0.217|    0.287\n",
            "   3|4               |    0.000|    0.905\n",
            "   4|4               |   -0.184|    0.800\n",
            "   0|4               |   -0.317|    0.287\n",
            "   0|4               |   -0.517|    0.287\n",
            "   0|4               |   -0.917|    0.287\n",
            "   2|2               |    0.017|    0.918\n",
            "   0|4               |   -1.717|    0.287\n",
            "   0|4               |   -3.317|    0.288\n",
            "   0|4               |   -6.517|    0.291\n",
            "   0|4               |  -12.917|    0.298\n",
            "   0|4               |  -25.717|    0.305\n",
            "   0|4               |  -51.317|    0.313\n",
            "   0|4               | -102.517|    0.323\n",
            "   0|4               | -204.917|    0.335\n",
            "   0|4               | -409.717|    0.345\n",
            "   0|4               | -819.317|    0.353\n",
            "   0|4               |-1638.517|    0.358\n",
            "   0|4               |-3276.917|    0.363\n",
            "   0|4               |-6553.717|    0.364\n",
            "   0|4               |-13107.317|    0.365\n",
            "   0|4               |-26214.517|    0.366\n",
            "   0|4               |-52428.917|    0.366\n",
            "   0|4               |-104857.717|    0.366\n",
            "   0|4               |-209715.317|    0.366\n",
            "   0|4               |-419430.517|    0.366\n",
            "   0|4               |-838860.917|    0.366\n",
            "   3|4               |   -0.296|    0.905\n",
            "   0|4               |-1677721.717|    0.366\n",
            "   0|1               |    0.000|    0.366\n",
            "   4|4               |   -0.084|    0.800\n",
            "   1|4               |   -0.034|    0.903\n",
            "   3|2               |    0.000|    0.908\n",
            "   3|1               |    0.477|    0.908\n",
            "   1|3               |    0.000|    0.907\n",
            "   4|3               |    0.000|    0.858\n",
            "   0|1               |    0.000|    0.369\n",
            "   0|1               |    0.000|    0.371\n",
            "   0|1               |    0.000|    0.371\n",
            "   0|1               |    0.000|    0.371\n",
            "   0|1               |    0.000|    0.371\n",
            "   0|1               |    0.000|    0.371\n",
            "   0|1               |    0.000|    0.372\n",
            "   0|1               |    0.000|    0.372\n",
            "   0|1               |    0.000|    0.373\n",
            "   2|1               |   -0.180|    0.918\n",
            "   0|1               |    0.000|    0.374\n",
            "   0|1               |    0.000|    0.378\n",
            "   4|0               |    0.335|    0.890\n",
            "   4|0               |    0.435|    0.913\n",
            "   0|1               |    0.001|    0.386\n",
            "   4|0               |    0.635|    0.916\n",
            "   1|0               |    0.042|    0.907\n",
            "   0|1               |    0.001|    0.410\n",
            "   4|0               |    1.035|    0.917\n",
            "   1|0               |    0.046|    0.907\n",
            "   0|1               |    0.002|    0.465\n",
            "   4|0               |    1.835|    0.917\n",
            "   1|0               |    0.054|    0.908\n",
            "   0|1               |    0.004|    0.559\n",
            "   4|0               |    3.435|    0.917\n",
            "   1|0               |    0.070|    0.909\n",
            "   4|0               |    6.635|    0.918\n",
            "   0|1               |    0.008|    0.652\n",
            "   1|0               |    0.102|    0.911\n",
            "   4|0               |   13.035|    0.918\n",
            "   3|1               |   26.077|    0.908\n",
            "   0|1               |    0.016|    0.731\n",
            "   1|0               |    0.166|    0.913\n",
            "   0|1               |    0.032|    0.803\n",
            "   1|0               |    0.294|    0.915\n",
            "   0|1               |    0.064|    0.855\n",
            "   1|0               |    0.551|    0.917\n",
            "   1|0               |    1.064|    0.918\n",
            "   0|1               |    0.129|    0.888\n",
            "   1|0               |    2.089|    0.918\n",
            "   0|1               |    0.258|    0.903\n",
            "   0|3               |    0.000|    0.903\n",
            "   4|1               |    0.000|    0.918\n",
            "---------------------------\n",
            "Shuffle features and optimize!\n",
            "----------------------------------------\n",
            "   3|Feature         |   Weight|     NDCG\n",
            "----------------------------------------\n",
            "   0|3               |   -0.000|    0.903\n",
            "   4|1               |   -0.033|    0.918\n",
            "   1|1               |    0.014|    0.918\n",
            "   0|3               |   -0.000|    0.903\n",
            "   0|3               |   -0.002|    0.903\n",
            "   2|0               |    0.706|    0.918\n",
            "   3|0               |    0.050|    0.908\n",
            "   3|0               |    0.150|    0.910\n",
            "   3|0               |    0.350|    0.912\n",
            "   3|0               |    0.750|    0.915\n",
            "   3|0               |    1.550|    0.917\n",
            "   3|0               |    3.150|    0.918\n",
            "   1|1               |    0.142|    0.918\n",
            "   3|2               |   -0.050|    0.918\n",
            "   0|3               |    0.001|    0.903\n",
            "   4|2               |   -0.034|    0.918\n",
            "   0|3               |    0.015|    0.903\n",
            "   0|2               |    0.000|    0.903\n",
            "   0|2               |   -0.000|    0.903\n",
            "   0|2               |   -0.001|    0.903\n",
            "   0|2               |   -0.002|    0.903\n",
            "   4|2               |   -0.019|    0.918\n",
            "   0|2               |    0.000|    0.903\n",
            "---------------------------\n",
            "Shuffle features and optimize!\n",
            "----------------------------------------\n",
            "   4|Feature         |   Weight|     NDCG\n",
            "----------------------------------------\n",
            "   0|2               |    0.000|    0.903\n",
            "---------------------------\n",
            "Shuffle features and optimize!\n",
            "----------------------------------------\n",
            "   2|Feature         |   Weight|     NDCG\n",
            "----------------------------------------\n",
            "   3|1               |    0.175|    0.918\n",
            "   0|2               |    0.000|    0.903\n",
            "   4|4               |   -0.009|    0.918\n",
            "   4|4               |   -0.010|    0.918\n",
            "   0|2               |    0.001|    0.903\n",
            "   4|4               |   -0.011|    0.918\n",
            "   0|2               |    0.002|    0.903\n",
            "   0|2               |    0.003|    0.903\n",
            "---------------------------\n",
            "Shuffle features and optimize!\n",
            "----------------------------------------\n",
            "   1|Feature         |   Weight|     NDCG\n",
            "----------------------------------------\n",
            "   0|2               |    0.026|    0.903\n",
            "   1|4               |    0.000|    0.918\n",
            "   0|2               |    0.051|    0.904\n",
            "   0|2               |    0.103|    0.905\n",
            "   0|2               |    0.205|    0.905\n",
            "   1|4               |   -0.249|    0.918\n",
            "   3|4               |   -0.005|    0.918\n",
            "   3|4               |   -0.011|    0.918\n",
            "   3|4               |   -0.018|    0.918\n",
            "   3|4               |   -0.224|    0.918\n",
            "   0|0               |    0.000|    0.905\n",
            "   0|0               |    0.000|    0.905\n",
            "   0|0               |    0.000|    0.905\n",
            "   0|0               |    0.000|    0.905\n",
            "   0|0               |    0.000|    0.905\n",
            "   0|0               |    0.000|    0.905\n",
            "   0|0               |    0.000|    0.905\n",
            "   0|0               |    0.001|    0.905\n",
            "   0|0               |    0.002|    0.905\n",
            "   0|0               |    0.003|    0.905\n",
            "   0|0               |    0.007|    0.906\n",
            "   0|0               |    0.013|    0.906\n",
            "   0|0               |    0.027|    0.907\n",
            "   0|0               |    0.054|    0.910\n",
            "   0|0               |    0.107|    0.913\n",
            "---------------------------\n",
            "Shuffle features and optimize!\n",
            "----------------------------------------\n",
            "   0|Feature         |   Weight|     NDCG\n",
            "----------------------------------------\n",
            "   0|4               |    0.000|    0.915\n",
            "   0|2               |    0.323|    0.915\n",
            "   3|3               |    0.050|    0.918\n",
            "   0|0               |    0.297|    0.915\n",
            "   2|2               |    0.000|    0.918\n",
            "   0|0               |    0.397|    0.917\n",
            "   0|0               |    0.597|    0.917\n",
            "---------------------------\n",
            "Shuffle features and optimize!\n",
            "----------------------------------------\n",
            "   3|Feature         |   Weight|     NDCG\n",
            "----------------------------------------\n",
            "   0|0               |    0.997|    0.918\n",
            "   0|0               |    1.797|    0.918\n",
            "   2|2               |    0.004|    0.918\n",
            "   1|3               |    0.000|    0.918\n",
            "   0|3               |    0.000|    0.918\n",
            "   3|3               |    0.040|    0.918\n",
            "   0|3               |   -0.006|    0.918\n",
            "   0|3               |   -0.023|    0.918\n",
            "---------------------------\n",
            "Shuffle features and optimize!\n",
            "----------------------------------------\n",
            "   0|Feature         |   Weight|     NDCG\n",
            "----------------------------------------\n",
            "   3|2               |   -0.053|    0.918\n",
            "   0|0               |    0.746|    0.918\n",
            "   3|2               |    0.022|    0.918\n",
            "   0|3               |   -0.023|    0.918\n",
            "   0|3               |   -0.021|    0.918\n",
            "   0|3               |   -0.014|    0.918\n",
            "   3|0               |    0.759|    0.919\n",
            "   0|4               |    0.000|    0.918\n",
            "   0|4               |   -0.350|    0.919\n",
            "CPU times: user 56.8 s, sys: 2.46 s, total: 59.2 s\n",
            "Wall time: 40 s\n",
            "---------------------------\n",
            "Finished successfully.\n"
          ]
        }
      ],
      "source": [
        "import fastrank\n",
        "\n",
        "trainRequest = fastrank.TrainRequest.coordinate_ascent()\n",
        "\n",
        "params = trainRequest.params\n",
        "params.init_random = True\n",
        "params.normalize = True\n",
        "params.seed = 1234567\n",
        "\n",
        "caPipe = features >> pt.ltr.apply_learned_model(trainRequest, form=\"fastrank\")\n",
        "\n",
        "%time caPipe.fit(trainTopics, qrel)"
      ]
    },
    {
      "cell_type": "code",
      "execution_count": null,
      "id": "829aef8e",
      "metadata": {
        "scrolled": true,
        "collapsed": true,
        "id": "829aef8e",
        "outputId": "f5c1cd7b-d6e0-4c7b-fdc2-4575d08bd235"
      },
      "outputs": [
        {
          "name": "stderr",
          "output_type": "stream",
          "text": [
            "[Parallel(n_jobs=16)]: Using backend ThreadingBackend with 16 concurrent workers.\n",
            "[Parallel(n_jobs=16)]: Done  18 tasks      | elapsed:    0.0s\n",
            "[Parallel(n_jobs=16)]: Done 168 tasks      | elapsed:    0.0s\n",
            "[Parallel(n_jobs=16)]: Done 400 out of 400 | elapsed:    0.1s finished\n",
            "/home/remisiki/.local/lib/python3.10/site-packages/lightgbm/sklearn.py:641: UserWarning: Found 'ndcg_at' in params. Will use it instead of 'eval_at' argument\n",
            "  _log_warning(f\"Found '{alias}' in params. Will use it instead of 'eval_at' argument\")\n",
            "/home/remisiki/.local/lib/python3.10/site-packages/lightgbm/sklearn.py:641: UserWarning: Found 'eval_at' in params. Will use it instead of 'eval_at' argument\n",
            "  _log_warning(f\"Found '{alias}' in params. Will use it instead of 'eval_at' argument\")\n",
            "/home/remisiki/.local/lib/python3.10/site-packages/lightgbm/sklearn.py:641: UserWarning: Found 'ndcg_eval_at' in params. Will use it instead of 'eval_at' argument\n",
            "  _log_warning(f\"Found '{alias}' in params. Will use it instead of 'eval_at' argument\")\n"
          ]
        },
        {
          "name": "stdout",
          "output_type": "stream",
          "text": [
            "[LightGBM] [Warning] Unknown parameter: silent\n",
            "[LightGBM] [Warning] min_data_in_leaf is set=1, min_child_samples=20 will be ignored. Current value: min_data_in_leaf=1\n",
            "[LightGBM] [Warning] min_sum_hessian_in_leaf is set=1, min_child_weight=0.001 will be ignored. Current value: min_sum_hessian_in_leaf=1\n"
          ]
        },
        {
          "data": {
            "text/html": [
              "<div>\n",
              "<style scoped>\n",
              "    .dataframe tbody tr th:only-of-type {\n",
              "        vertical-align: middle;\n",
              "    }\n",
              "\n",
              "    .dataframe tbody tr th {\n",
              "        vertical-align: top;\n",
              "    }\n",
              "\n",
              "    .dataframe thead th {\n",
              "        text-align: right;\n",
              "    }\n",
              "</style>\n",
              "<table border=\"1\" class=\"dataframe\">\n",
              "  <thead>\n",
              "    <tr style=\"text-align: right;\">\n",
              "      <th></th>\n",
              "      <th>name</th>\n",
              "      <th>map</th>\n",
              "      <th>ndcg</th>\n",
              "      <th>ndcg_cut.10</th>\n",
              "      <th>P.10</th>\n",
              "      <th>mrt</th>\n",
              "    </tr>\n",
              "  </thead>\n",
              "  <tbody>\n",
              "    <tr>\n",
              "      <th>0</th>\n",
              "      <td>BM25</td>\n",
              "      <td>0.868709</td>\n",
              "      <td>0.911058</td>\n",
              "      <td>0.815990</td>\n",
              "      <td>0.99</td>\n",
              "      <td>171.595038</td>\n",
              "    </tr>\n",
              "    <tr>\n",
              "      <th>1</th>\n",
              "      <td>Random</td>\n",
              "      <td>0.237678</td>\n",
              "      <td>0.548706</td>\n",
              "      <td>0.254955</td>\n",
              "      <td>0.39</td>\n",
              "      <td>472.122247</td>\n",
              "    </tr>\n",
              "    <tr>\n",
              "      <th>2</th>\n",
              "      <td>RandomForest</td>\n",
              "      <td>0.682146</td>\n",
              "      <td>0.814552</td>\n",
              "      <td>0.599562</td>\n",
              "      <td>0.78</td>\n",
              "      <td>1352.648271</td>\n",
              "    </tr>\n",
              "    <tr>\n",
              "      <th>3</th>\n",
              "      <td>LMART</td>\n",
              "      <td>0.805737</td>\n",
              "      <td>0.895974</td>\n",
              "      <td>0.793113</td>\n",
              "      <td>0.95</td>\n",
              "      <td>1318.734030</td>\n",
              "    </tr>\n",
              "    <tr>\n",
              "      <th>4</th>\n",
              "      <td>CoordinateAscent</td>\n",
              "      <td>0.996414</td>\n",
              "      <td>0.943313</td>\n",
              "      <td>0.841814</td>\n",
              "      <td>1.00</td>\n",
              "      <td>1328.548500</td>\n",
              "    </tr>\n",
              "  </tbody>\n",
              "</table>\n",
              "</div>"
            ],
            "text/plain": [
              "               name       map      ndcg  ndcg_cut.10  P.10          mrt\n",
              "0              BM25  0.868709  0.911058     0.815990  0.99   171.595038\n",
              "1            Random  0.237678  0.548706     0.254955  0.39   472.122247\n",
              "2      RandomForest  0.682146  0.814552     0.599562  0.78  1352.648271\n",
              "3             LMART  0.805737  0.895974     0.793113  0.95  1318.734030\n",
              "4  CoordinateAscent  0.996414  0.943313     0.841814  1.00  1328.548500"
            ]
          },
          "execution_count": 181,
          "metadata": {},
          "output_type": "execute_result"
        }
      ],
      "source": [
        "pt.Experiment(\n",
        "    [br, pt.BatchRetrieve(index, wmodel=randomScore), rfPipe, lmartPipe, caPipe],\n",
        "    testTopics,\n",
        "    qrel,\n",
        "    names=[\"BM25\", \"Random\", \"RandomForest\", \"LMART\", \"CoordinateAscent\"],\n",
        "    eval_metrics=[\"map\", \"ndcg\", \"ndcg_cut.10\", \"P.10\", \"mrt\"]\n",
        ")"
      ]
    },
    {
      "cell_type": "code",
      "execution_count": null,
      "id": "f1d2af2a",
      "metadata": {
        "collapsed": true,
        "id": "f1d2af2a",
        "outputId": "9e1aa689-1ebd-46da-ea48-a194862c0582"
      },
      "outputs": [
        {
          "name": "stderr",
          "output_type": "stream",
          "text": [
            "[Parallel(n_jobs=16)]: Using backend ThreadingBackend with 16 concurrent workers.\n",
            "[Parallel(n_jobs=16)]: Done  18 tasks      | elapsed:    0.3s\n",
            "[Parallel(n_jobs=16)]: Done 168 tasks      | elapsed:    1.7s\n"
          ]
        },
        {
          "name": "stdout",
          "output_type": "stream",
          "text": [
            "CPU times: user 1min 29s, sys: 526 ms, total: 1min 30s\n",
            "Wall time: 39 s\n"
          ]
        },
        {
          "name": "stderr",
          "output_type": "stream",
          "text": [
            "[Parallel(n_jobs=16)]: Done 400 out of 400 | elapsed:    3.8s finished\n"
          ]
        }
      ],
      "source": [
        "from sklearn.ensemble import RandomForestRegressor\n",
        "\n",
        "rf = RandomForestRegressor(n_estimators=400, verbose=1, random_state=SEED, n_jobs=16)\n",
        "\n",
        "rfPipe = features >> pt.ltr.apply_learned_model(rf)\n",
        "\n",
        "%time rfPipe.fit(trainTopics, qrel)"
      ]
    },
    {
      "cell_type": "code",
      "execution_count": null,
      "id": "7d140e34",
      "metadata": {
        "collapsed": true,
        "id": "7d140e34",
        "outputId": "8d639d37-0115-473a-c70a-86489a0c1533"
      },
      "outputs": [
        {
          "name": "stdout",
          "output_type": "stream",
          "text": [
            "[LightGBM] [Warning] Unknown parameter: silent\n",
            "[LightGBM] [Warning] min_data_in_leaf is set=1, min_child_samples=20 will be ignored. Current value: min_data_in_leaf=1\n",
            "[LightGBM] [Warning] min_sum_hessian_in_leaf is set=1, min_child_weight=0.001 will be ignored. Current value: min_sum_hessian_in_leaf=1\n",
            "[LightGBM] [Warning] early_stopping_round is set=5, early_stopping_rounds=5 will be ignored. Current value: early_stopping_round=5\n",
            "[LightGBM] [Warning] Unknown parameter: silent\n",
            "[LightGBM] [Warning] min_data_in_leaf is set=1, min_child_samples=20 will be ignored. Current value: min_data_in_leaf=1\n",
            "[LightGBM] [Warning] min_sum_hessian_in_leaf is set=1, min_child_weight=0.001 will be ignored. Current value: min_sum_hessian_in_leaf=1\n",
            "[LightGBM] [Warning] Auto-choosing col-wise multi-threading, the overhead of testing was 0.003007 seconds.\n",
            "You can set `force_col_wise=true` to remove the overhead.\n",
            "[LightGBM] [Info] Total Bins 1275\n",
            "[LightGBM] [Info] Number of data points in the train set: 25721, number of used features: 5\n",
            "[LightGBM] [Warning] Unknown parameter: silent\n",
            "[LightGBM] [Warning] min_data_in_leaf is set=1, min_child_samples=20 will be ignored. Current value: min_data_in_leaf=1\n",
            "[LightGBM] [Warning] min_sum_hessian_in_leaf is set=1, min_child_weight=0.001 will be ignored. Current value: min_sum_hessian_in_leaf=1\n",
            "[LightGBM] [Warning] early_stopping_round is set=5, early_stopping_rounds=5 will be ignored. Current value: early_stopping_round=5\n",
            "[LightGBM] [Warning] No further splits with positive gain, best gain: -inf\n",
            "Training until validation scores don't improve for 5 rounds\n",
            "Early stopping, best iteration is:\n",
            "[7]\tvalid_0's ndcg@10: 0.681387\n",
            "CPU times: user 43.2 s, sys: 440 ms, total: 43.7 s\n",
            "Wall time: 41.3 s\n"
          ]
        },
        {
          "name": "stderr",
          "output_type": "stream",
          "text": [
            "/home/remisiki/.local/lib/python3.10/site-packages/lightgbm/sklearn.py:641: UserWarning: Found 'ndcg_at' in params. Will use it instead of 'eval_at' argument\n",
            "  _log_warning(f\"Found '{alias}' in params. Will use it instead of 'eval_at' argument\")\n",
            "/home/remisiki/.local/lib/python3.10/site-packages/lightgbm/sklearn.py:641: UserWarning: Found 'eval_at' in params. Will use it instead of 'eval_at' argument\n",
            "  _log_warning(f\"Found '{alias}' in params. Will use it instead of 'eval_at' argument\")\n",
            "/home/remisiki/.local/lib/python3.10/site-packages/lightgbm/sklearn.py:641: UserWarning: Found 'ndcg_eval_at' in params. Will use it instead of 'eval_at' argument\n",
            "  _log_warning(f\"Found '{alias}' in params. Will use it instead of 'eval_at' argument\")\n",
            "/home/remisiki/.local/lib/python3.10/site-packages/lightgbm/engine.py:143: UserWarning: Found `num_iterations` in params. Will use it instead of argument\n",
            "  _log_warning(f\"Found `{alias}` in params. Will use it instead of argument\")\n"
          ]
        }
      ],
      "source": [
        "import lightgbm as lgb\n",
        "\n",
        "lmart_l = lgb.LGBMRanker(\n",
        "    task=\"train\",\n",
        "    silent=False,\n",
        "    min_data_in_leaf=1,\n",
        "    min_sum_hessian_in_leaf=1,\n",
        "    max_bin=255,\n",
        "    num_leaves=31,\n",
        "    objective=\"lambdarank\",\n",
        "    metric=\"ndcg\",\n",
        "    ndcg_eval_at=[10],\n",
        "    ndcg_at=[10],\n",
        "    eval_at=[10],\n",
        "    learning_rate= .1,\n",
        "    importance_type=\"gain\",\n",
        "    num_iterations=100,\n",
        "    early_stopping_rounds=5\n",
        ")\n",
        "\n",
        "lmartPipe = features >> pt.ltr.apply_learned_model(lmart_l, form=\"ltr\", fit_kwargs={'eval_at':[10]})\n",
        "\n",
        "%time lmartPipe.fit(trainTopics, qrel, validTopics, qrel)"
      ]
    },
    {
      "cell_type": "code",
      "execution_count": null,
      "id": "274e965d",
      "metadata": {
        "id": "274e965d"
      },
      "outputs": [],
      "source": [
        "def randomScore(keyFreq, posting, entryStats, collStats):\n",
        "    return (\n",
        "        np.random.random()\n",
        "    )"
      ]
    },
    {
      "cell_type": "markdown",
      "source": [
        "# Server"
      ],
      "metadata": {
        "id": "aQnmh-ZdMMme"
      },
      "id": "aQnmh-ZdMMme"
    },
    {
      "cell_type": "code",
      "source": [
        "dataset[\"kw\"] = dataset[\"kw\"].map(lambda x: eval(x))"
      ],
      "metadata": {
        "id": "9wx08UPrdhbl"
      },
      "id": "9wx08UPrdhbl",
      "execution_count": 12,
      "outputs": []
    },
    {
      "cell_type": "code",
      "source": [
        "def search(query):\n",
        "  start = time.time()\n",
        "  if (query.strip() == \"\"):\n",
        "    return {\n",
        "        \"data\": [],\n",
        "        \"time\": (time.time() - start),\n",
        "        \"count\": 0\n",
        "    }\n",
        "  else:\n",
        "    d = caPipe.search(query).drop(columns=[\"title\", \"text\"])\n",
        "    d = d.merge(dataset, on=\"docno\")\n",
        "    d = d[[\"score\", \"title\", \"text\", \"url\", \"area\", \"applicability\", \"owner\", \"docno\", \"kw\"]]\n",
        "    # d = d[d[\"score\"] > 1.25]\n",
        "    d = d[:50]\n",
        "    data = json.loads(d.to_json(orient=\"records\"))\n",
        "    return {\n",
        "        \"data\": data,\n",
        "        \"time\": (time.time() - start),\n",
        "        \"count\": len(data)\n",
        "    }"
      ],
      "metadata": {
        "id": "bMYOtP1hMP9L"
      },
      "id": "bMYOtP1hMP9L",
      "execution_count": 13,
      "outputs": []
    },
    {
      "cell_type": "code",
      "source": [
        "from flask import Flask\n",
        "from flask import request\n",
        "app = Flask(__name__)\n",
        "\n",
        "@app.route('/api', methods=[\"POST\"])\n",
        "def home():\n",
        "  query = request.form[\"query\"]\n",
        "  return json.dumps({\n",
        "      \"error\": False,\n",
        "      **search(query)\n",
        "  })\n",
        "app.run()"
      ],
      "metadata": {
        "colab": {
          "base_uri": "https://localhost:8080/"
        },
        "id": "9s3fBpaIM_ZL",
        "outputId": "d591f9a9-401c-4541-8840-987308d098f7"
      },
      "id": "9s3fBpaIM_ZL",
      "execution_count": null,
      "outputs": [
        {
          "output_type": "stream",
          "name": "stdout",
          "text": [
            " * Serving Flask app '__main__' (lazy loading)\n",
            " * Environment: production\n",
            "\u001b[31m   WARNING: This is a development server. Do not use it in a production deployment.\u001b[0m\n",
            "\u001b[2m   Use a production WSGI server instead.\u001b[0m\n",
            " * Debug mode: off\n"
          ]
        },
        {
          "output_type": "stream",
          "name": "stderr",
          "text": [
            " * Running on http://127.0.0.1:5000 (Press CTRL+C to quit)\n"
          ]
        }
      ]
    },
    {
      "cell_type": "markdown",
      "id": "ed3f8def",
      "metadata": {
        "id": "ed3f8def"
      },
      "source": [
        "# Stats"
      ]
    },
    {
      "cell_type": "code",
      "execution_count": null,
      "id": "cd087cd1",
      "metadata": {
        "id": "cd087cd1"
      },
      "outputs": [],
      "source": [
        "qrel[\"qc\"] = qrel[\"query\"].str.split(\" \").apply(lambda x: len(x))"
      ]
    },
    {
      "cell_type": "code",
      "execution_count": null,
      "id": "57e8fea3",
      "metadata": {
        "id": "57e8fea3",
        "outputId": "7d36b0ce-4b64-4dab-8e6f-2b383ca53dc4"
      },
      "outputs": [
        {
          "data": {
            "text/plain": [
              "qc\n",
              "2     30\n",
              "1      8\n",
              "4      2\n",
              "3      1\n",
              "dtype: int64"
            ]
          },
          "execution_count": 23,
          "metadata": {},
          "output_type": "execute_result"
        }
      ],
      "source": [
        "qrel[[\"qid\", \"qc\"]].groupby(\"qid\").first().value_counts()"
      ]
    },
    {
      "cell_type": "code",
      "execution_count": null,
      "id": "d0ba706d",
      "metadata": {
        "id": "d0ba706d"
      },
      "outputs": [],
      "source": [
        "import seaborn as sns\n",
        "qrel = pd.read_csv(\"./data/rel.csv\")"
      ]
    },
    {
      "cell_type": "code",
      "execution_count": null,
      "id": "1c76ccf0",
      "metadata": {
        "collapsed": true,
        "id": "1c76ccf0",
        "outputId": "505a429c-e661-4c78-d5cc-9d39e43cfc19"
      },
      "outputs": [
        {
          "data": {
            "text/html": [
              "<div>\n",
              "<style scoped>\n",
              "    .dataframe tbody tr th:only-of-type {\n",
              "        vertical-align: middle;\n",
              "    }\n",
              "\n",
              "    .dataframe tbody tr th {\n",
              "        vertical-align: top;\n",
              "    }\n",
              "\n",
              "    .dataframe thead th {\n",
              "        text-align: right;\n",
              "    }\n",
              "</style>\n",
              "<table border=\"1\" class=\"dataframe\">\n",
              "  <thead>\n",
              "    <tr style=\"text-align: right;\">\n",
              "      <th></th>\n",
              "      <th>rel</th>\n",
              "    </tr>\n",
              "  </thead>\n",
              "  <tbody>\n",
              "    <tr>\n",
              "      <th>count</th>\n",
              "      <td>2050.000000</td>\n",
              "    </tr>\n",
              "    <tr>\n",
              "      <th>mean</th>\n",
              "      <td>3.012683</td>\n",
              "    </tr>\n",
              "    <tr>\n",
              "      <th>std</th>\n",
              "      <td>1.478605</td>\n",
              "    </tr>\n",
              "    <tr>\n",
              "      <th>min</th>\n",
              "      <td>1.000000</td>\n",
              "    </tr>\n",
              "    <tr>\n",
              "      <th>25%</th>\n",
              "      <td>2.000000</td>\n",
              "    </tr>\n",
              "    <tr>\n",
              "      <th>50%</th>\n",
              "      <td>3.000000</td>\n",
              "    </tr>\n",
              "    <tr>\n",
              "      <th>75%</th>\n",
              "      <td>4.000000</td>\n",
              "    </tr>\n",
              "    <tr>\n",
              "      <th>max</th>\n",
              "      <td>5.000000</td>\n",
              "    </tr>\n",
              "  </tbody>\n",
              "</table>\n",
              "</div>"
            ],
            "text/plain": [
              "               rel\n",
              "count  2050.000000\n",
              "mean      3.012683\n",
              "std       1.478605\n",
              "min       1.000000\n",
              "25%       2.000000\n",
              "50%       3.000000\n",
              "75%       4.000000\n",
              "max       5.000000"
            ]
          },
          "execution_count": 83,
          "metadata": {},
          "output_type": "execute_result"
        }
      ],
      "source": [
        "qrel[[\"rel\"]].describe()"
      ]
    },
    {
      "cell_type": "code",
      "execution_count": null,
      "id": "19df9283",
      "metadata": {
        "collapsed": true,
        "id": "19df9283",
        "outputId": "970cef72-036b-48d5-87ea-e0af0d7e32c3"
      },
      "outputs": [
        {
          "data": {
            "image/png": "[encoded data removed]",
            "text/plain": [
              "<Figure size 576x432 with 1 Axes>"
            ]
          },
          "metadata": {},
          "output_type": "display_data"
        }
      ],
      "source": [
        "fig = sns.displot(qrel[\"rel\"])\n",
        "fig.fig.set_size_inches(8, 6)\n",
        "plt.savefig(\"rel.png\")"
      ]
    }
  ],
  "metadata": {
    "kernelspec": {
      "display_name": "Python 3 (ipykernel)",
      "language": "python",
      "name": "python3"
    },
    "language_info": {
      "codemirror_mode": {
        "name": "ipython",
        "version": 3
      },
      "file_extension": ".py",
      "mimetype": "text/x-python",
      "name": "python",
      "nbconvert_exporter": "python",
      "pygments_lexer": "ipython3",
      "version": "3.10.8"
    },
    "colab": {
      "provenance": [],
      "collapsed_sections": [
        "18af457f",
        "ed3f8def"
      ]
    }
  },
  "nbformat": 4,
  "nbformat_minor": 5
}